{
 "cells": [
  {
   "cell_type": "markdown",
   "id": "50727a78",
   "metadata": {},
   "source": [
    "# Project Tiltle: \"Find the Top-Selling Product from Sales Data\""
   ]
  },
  {
   "cell_type": "code",
   "execution_count": 2,
   "id": "222c3d64",
   "metadata": {},
   "outputs": [
    {
     "name": "stdout",
     "output_type": "stream",
     "text": [
      "Original Sales Data:\n",
      "Product ID: P001, Sales Amount: 150\n",
      "Product ID: P002, Sales Amount: 200\n",
      "Product ID: P003, Sales Amount: 120\n",
      "\n",
      "Highest Selling Products Report:\n",
      "Product ID: P002 | Total Sales: 200\n",
      "Product ID: P001 | Total Sales: 150\n",
      "Product ID: P003 | Total Sales: 120\n",
      "\n",
      "Top-Selling Product is: P002 with Sales: 200\n"
     ]
    }
   ],
   "source": [
    "# project Tiltle: \"Find the Top-Selling Product from Sales Data\"\n",
    "\n",
    "# Step 1: Create a dictionary containing product IDs and their sales amounts\n",
    "sales_data = {\n",
    "    \"P001\": 150,\n",
    "    \"P002\": 200,\n",
    "    \"P003\": 120\n",
    "}\n",
    "\n",
    "# Step 2: Print the original sales data\n",
    "print(\"Original Sales Data:\")\n",
    "for product_id, amount in sales_data.items():\n",
    "    print(f\"Product ID: {product_id}, Sales Amount: {amount}\")\n",
    "\n",
    "# Step 3: Sort the sales data based on sales amount in descending order\n",
    "# This helps in identifying which products sold the most\n",
    "sorted_sales = sorted(sales_data.items(), key=lambda item: item[1], reverse=True)\n",
    "\n",
    "# Step 4: Print the sales report showing products from highest to lowest sales\n",
    "print(\"\\nHighest Selling Products Report:\")\n",
    "for product_id, amount in sorted_sales:\n",
    "    print(f\"Product ID: {product_id} | Total Sales: {amount}\")\n",
    "\n",
    "# Step 5: Identify and print the top-selling product\n",
    "top_product = sorted_sales[0]\n",
    "print(f\"\\nTop-Selling Product is: {top_product[0]} with Sales: {top_product[1]}\")\n"
   ]
  },
  {
   "cell_type": "code",
   "execution_count": null,
   "id": "6f1ddd67",
   "metadata": {},
   "outputs": [],
   "source": []
  }
 ],
 "metadata": {
  "kernelspec": {
   "display_name": "Python 3",
   "language": "python",
   "name": "python3"
  },
  "language_info": {
   "codemirror_mode": {
    "name": "ipython",
    "version": 3
   },
   "file_extension": ".py",
   "mimetype": "text/x-python",
   "name": "python",
   "nbconvert_exporter": "python",
   "pygments_lexer": "ipython3",
   "version": "3.13.5"
  }
 },
 "nbformat": 4,
 "nbformat_minor": 5
}
