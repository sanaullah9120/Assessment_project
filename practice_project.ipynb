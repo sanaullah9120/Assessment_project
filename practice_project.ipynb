{
 "cells": [
  {
   "cell_type": "code",
   "execution_count": 1,
   "id": "49b6ce7a",
   "metadata": {},
   "outputs": [
    {
     "name": "stdout",
     "output_type": "stream",
     "text": [
      "Original Sales Data:\n",
      "product: product1, sales amount: 1500\n",
      "product: product2, sales amount: 3000\n",
      "product: product3, sales amount: 2500\n",
      "product: product4, sales amount: 4000\n",
      "product: product5, sales amount: 3500\n",
      "\n",
      "Sales Report:\n",
      "product: product4, sales amount: 4000\n",
      "product: product5, sales amount: 3500\n",
      "product: product2, sales amount: 3000\n",
      "product: product3, sales amount: 2500\n",
      "product: product1, sales amount: 1500\n",
      "\n",
      "Top Selling Product: product4 with sales amount: 4000\n"
     ]
    }
   ],
   "source": [
    "# Project Title: \"find the top selling product from sale data\"\n",
    "# step-1 create a dictionary containing product ids and their sales amount\n",
    "sales_data = {\n",
    "    \"product1\": 1500,\n",
    "    \"product2\": 3000,\n",
    "    \"product3\": 2500,\n",
    "    \"product4\": 4000,\n",
    "    \"product5\": 3500\n",
    "}\n",
    "# step-2 print the original sales data\n",
    "print(\"Original Sales Data:\")\n",
    "for product, amount in sales_data.items():\n",
    "    print(f\"product: {product}, sales amount: {amount}\")\n",
    "# step-3 sort the sales data by sales amount in descending order\n",
    "# This help to find the top selling product\n",
    "sorted_sales_data = sorted(sales_data.items(), key = lambda x: x[1], reverse= True)\n",
    "\n",
    "# step-4 print the sales report that shows the top selling product\n",
    "print(\"\\nSales Report:\")\n",
    "for product, amount in sorted_sales_data:\n",
    "    print(f\"product: {product}, sales amount: {amount}\")\n",
    "# step-5 print the top selling product\n",
    "top_selling_product = sorted_sales_data[0]\n",
    "print(f\"\\nTop Selling Product: {top_selling_product[0]} with sales amount: {top_selling_product[1]}\")"
   ]
  },
  {
   "cell_type": "code",
   "execution_count": null,
   "id": "56cf1269",
   "metadata": {},
   "outputs": [],
   "source": []
  }
 ],
 "metadata": {
  "kernelspec": {
   "display_name": "Python 3",
   "language": "python",
   "name": "python3"
  },
  "language_info": {
   "codemirror_mode": {
    "name": "ipython",
    "version": 3
   },
   "file_extension": ".py",
   "mimetype": "text/x-python",
   "name": "python",
   "nbconvert_exporter": "python",
   "pygments_lexer": "ipython3",
   "version": "3.13.5"
  }
 },
 "nbformat": 4,
 "nbformat_minor": 5
}
